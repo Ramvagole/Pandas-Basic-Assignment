{
 "cells": [
  {
   "cell_type": "code",
   "execution_count": 1,
   "id": "5dee5dc8-c849-46bc-b35d-2c18f7d554ae",
   "metadata": {},
   "outputs": [
    {
     "name": "stdout",
     "output_type": "stream",
     "text": [
      "0     4\n",
      "1     8\n",
      "2    15\n",
      "3    16\n",
      "4    23\n",
      "5    42\n",
      "dtype: int64\n"
     ]
    }
   ],
   "source": [
    "#Q1):-\n",
    "import pandas as pd\n",
    "a=pd.Series([4,8,15,16,23,42])\n",
    "print(a)"
   ]
  },
  {
   "cell_type": "code",
   "execution_count": 2,
   "id": "8c9ba59a-55f5-41c7-ad8b-210b7667e5e0",
   "metadata": {},
   "outputs": [
    {
     "name": "stdout",
     "output_type": "stream",
     "text": [
      "0     1\n",
      "1     2\n",
      "2     3\n",
      "3     4\n",
      "4     5\n",
      "5     6\n",
      "6     7\n",
      "7     8\n",
      "8     9\n",
      "9    10\n",
      "dtype: int64\n"
     ]
    }
   ],
   "source": [
    "#Q2):-\n",
    "import pandas as pd\n",
    "a=[1,2,3,4,5,6,7,8,9,10]\n",
    "ps=pd.Series(a)\n",
    "print(ps)"
   ]
  },
  {
   "cell_type": "code",
   "execution_count": 4,
   "id": "1eb3c7f8-5064-4c2d-bc4e-cfa1041c871d",
   "metadata": {},
   "outputs": [
    {
     "name": "stdout",
     "output_type": "stream",
     "text": [
      "     Name  Age  Gender\n",
      "0   Alice   25  Female\n",
      "1     Bob   30    Male\n",
      "2  Claire   27  Female\n"
     ]
    }
   ],
   "source": [
    "#Q3):-\n",
    "import pandas as pd\n",
    "a={\"Name\":[\"Alice\",\"Bob\",\"Claire\"],\"Age\":[25,30,27],\"Gender\":[\"Female\",\"Male\",\"Female\"]}\n",
    "df=pd.DataFrame(a)\n",
    "print(df)"
   ]
  },
  {
   "cell_type": "code",
   "execution_count": null,
   "id": "710d2d28-5181-427f-92fc-e40e0969c6b9",
   "metadata": {},
   "outputs": [],
   "source": [
    "#Q4):-\n",
    "The Dataframe as 2-D and panda series as 1-D\n",
    "\n",
    "Example:-\n",
    "watch at Answer Q1 and Q3."
   ]
  },
  {
   "cell_type": "code",
   "execution_count": null,
   "id": "8306debe-1224-47a9-ac5d-3f8ea5925ebc",
   "metadata": {},
   "outputs": [],
   "source": [
    "#Q5):-\n",
    "Dropping columns in the data.\n",
    "Dropping rows in the data.\n",
    "Renaming a column in the dataset.\n",
    "Select columns with specific data types.\n",
    "Slicing the dataset."
   ]
  },
  {
   "cell_type": "code",
   "execution_count": null,
   "id": "c3018e23-ecba-4c2e-b0ce-8a32589435cd",
   "metadata": {},
   "outputs": [],
   "source": [
    "#Q6):-\n",
    "A Series is a one dimensional array like structure with homogeneous data.\n",
    "The values of the series are mutable means we can change any value in series, but the size of the series is immutable so we can not change the size of the series.\n",
    "A series can hold any type of data like integer, decimal, string, python objects, etc.\n",
    "\n",
    "DataFrame is a two-dimensional array with heterogeneous data.\n",
    "A DataFrame size is mutable and data is also mutable so we can change the data and size of DataFrame at any time."
   ]
  },
  {
   "cell_type": "code",
   "execution_count": 6,
   "id": "6391c6c1-a0a6-4fb6-91fd-0624fe6b4875",
   "metadata": {},
   "outputs": [
    {
     "name": "stdout",
     "output_type": "stream",
     "text": [
      "   incresing_with_ten  increase_with_hundred\n",
      "0                  10                    100\n",
      "1                  20                    200\n",
      "2                  30                    300\n",
      "3                  40                    400\n"
     ]
    }
   ],
   "source": [
    "#Q7):-\n",
    "import pandas as pd\n",
    "a=pd.Series([10,20,30,40],name=\"incresing_with_ten\")\n",
    "b=pd.Series([100,200,300,400],name=\"increase_with_hundred\")\n",
    "df=pd.concat([a,b],axis=1)\n",
    "df=pd.DataFrame(df)\n",
    "print(df)"
   ]
  },
  {
   "cell_type": "code",
   "execution_count": null,
   "id": "987099b2-eab3-456c-ac83-cb93421848b2",
   "metadata": {},
   "outputs": [],
   "source": []
  }
 ],
 "metadata": {
  "kernelspec": {
   "display_name": "Python 3 (ipykernel)",
   "language": "python",
   "name": "python3"
  },
  "language_info": {
   "codemirror_mode": {
    "name": "ipython",
    "version": 3
   },
   "file_extension": ".py",
   "mimetype": "text/x-python",
   "name": "python",
   "nbconvert_exporter": "python",
   "pygments_lexer": "ipython3",
   "version": "3.10.8"
  }
 },
 "nbformat": 4,
 "nbformat_minor": 5
}
